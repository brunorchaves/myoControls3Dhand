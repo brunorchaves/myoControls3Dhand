{
 "cells": [
  {
   "cell_type": "code",
   "execution_count": 1,
   "metadata": {
    "id": "igMyGnjE9hEp"
   },
   "outputs": [
    {
     "name": "stdout",
     "output_type": "stream",
     "text": [
      "WARNING:tensorflow:From C:\\Users\\bruno.ribeiro\\AppData\\Local\\Programs\\Python\\Python311\\Lib\\site-packages\\keras\\src\\losses.py:2976: The name tf.losses.sparse_softmax_cross_entropy is deprecated. Please use tf.compat.v1.losses.sparse_softmax_cross_entropy instead.\n",
      "\n"
     ]
    }
   ],
   "source": [
    "import csv\n",
    "\n",
    "import numpy as np\n",
    "import tensorflow as tf\n",
    "from sklearn.model_selection import train_test_split\n",
    "\n",
    "RANDOM_SEED = 42"
   ]
  },
  {
   "cell_type": "markdown",
   "metadata": {
    "id": "t2HDvhIu9hEr"
   },
   "source": [
    "# Specify each path"
   ]
  },
  {
   "cell_type": "code",
   "execution_count": 2,
   "metadata": {
    "id": "9NvZP2Zn9hEy"
   },
   "outputs": [],
   "source": [
    "dataset = 'model/keypoint_classifier/keypoint.csv'\n",
    "model_save_path = 'model/keypoint_classifier/keypoint_classifier.hdf5'\n",
    "tflite_save_path = 'model/keypoint_classifier/keypoint_classifier.tflite'"
   ]
  },
  {
   "cell_type": "markdown",
   "metadata": {
    "id": "s5oMH7x19hEz"
   },
   "source": [
    "# Set number of classes"
   ]
  },
  {
   "cell_type": "code",
   "execution_count": 3,
   "metadata": {
    "id": "du4kodXL9hEz"
   },
   "outputs": [],
   "source": [
    "NUM_CLASSES = 4"
   ]
  },
  {
   "cell_type": "markdown",
   "metadata": {
    "id": "XjnL0uso9hEz"
   },
   "source": [
    "# Dataset reading"
   ]
  },
  {
   "cell_type": "code",
   "execution_count": 4,
   "metadata": {
    "id": "QT5ZqtEz9hE0"
   },
   "outputs": [],
   "source": [
    "X_dataset = np.loadtxt(dataset, delimiter=',', dtype='float32', usecols=list(range(1, (21 * 2) + 1)))"
   ]
  },
  {
   "cell_type": "code",
   "execution_count": 5,
   "metadata": {
    "id": "QmoKFsp49hE0"
   },
   "outputs": [],
   "source": [
    "y_dataset = np.loadtxt(dataset, delimiter=',', dtype='int32', usecols=(0))"
   ]
  },
  {
   "cell_type": "code",
   "execution_count": 6,
   "metadata": {
    "id": "xQU7JTZ_9hE0"
   },
   "outputs": [],
   "source": [
    "X_train, X_test, y_train, y_test = train_test_split(X_dataset, y_dataset, train_size=0.75, random_state=RANDOM_SEED)"
   ]
  },
  {
   "cell_type": "markdown",
   "metadata": {
    "id": "mxK_lETT9hE0"
   },
   "source": [
    "# Model building"
   ]
  },
  {
   "cell_type": "code",
   "execution_count": 7,
   "metadata": {
    "id": "vHBmUf1t9hE1"
   },
   "outputs": [
    {
     "name": "stdout",
     "output_type": "stream",
     "text": [
      "WARNING:tensorflow:From C:\\Users\\bruno.ribeiro\\AppData\\Local\\Programs\\Python\\Python311\\Lib\\site-packages\\keras\\src\\backend.py:1398: The name tf.executing_eagerly_outside_functions is deprecated. Please use tf.compat.v1.executing_eagerly_outside_functions instead.\n",
      "\n"
     ]
    }
   ],
   "source": [
    "model = tf.keras.models.Sequential([\n",
    "    tf.keras.layers.Input((21 * 2, )),\n",
    "    tf.keras.layers.Dropout(0.2),\n",
    "    tf.keras.layers.Dense(20, activation='relu'),\n",
    "    tf.keras.layers.Dropout(0.4),\n",
    "    tf.keras.layers.Dense(10, activation='relu'),\n",
    "    tf.keras.layers.Dense(NUM_CLASSES, activation='softmax')\n",
    "])"
   ]
  },
  {
   "cell_type": "code",
   "execution_count": 8,
   "metadata": {
    "colab": {
     "base_uri": "https://localhost:8080/"
    },
    "id": "ypqky9tc9hE1",
    "outputId": "5db082bb-30e3-4110-bf63-a1ee777ecd46"
   },
   "outputs": [
    {
     "name": "stdout",
     "output_type": "stream",
     "text": [
      "Model: \"sequential\"\n",
      "_________________________________________________________________\n",
      " Layer (type)                Output Shape              Param #   \n",
      "=================================================================\n",
      " dropout (Dropout)           (None, 42)                0         \n",
      "                                                                 \n",
      " dense (Dense)               (None, 20)                860       \n",
      "                                                                 \n",
      " dropout_1 (Dropout)         (None, 20)                0         \n",
      "                                                                 \n",
      " dense_1 (Dense)             (None, 10)                210       \n",
      "                                                                 \n",
      " dense_2 (Dense)             (None, 4)                 44        \n",
      "                                                                 \n",
      "=================================================================\n",
      "Total params: 1114 (4.35 KB)\n",
      "Trainable params: 1114 (4.35 KB)\n",
      "Non-trainable params: 0 (0.00 Byte)\n",
      "_________________________________________________________________\n"
     ]
    }
   ],
   "source": [
    "model.summary()  # tf.keras.utils.plot_model(model, show_shapes=True)"
   ]
  },
  {
   "cell_type": "code",
   "execution_count": 9,
   "metadata": {
    "id": "MbMjOflQ9hE1"
   },
   "outputs": [],
   "source": [
    "# Model checkpoint callback\n",
    "cp_callback = tf.keras.callbacks.ModelCheckpoint(\n",
    "    model_save_path, verbose=1, save_weights_only=False)\n",
    "# Callback for early stopping\n",
    "es_callback = tf.keras.callbacks.EarlyStopping(patience=20, verbose=1)"
   ]
  },
  {
   "cell_type": "code",
   "execution_count": 10,
   "metadata": {
    "id": "c3Dac0M_9hE2"
   },
   "outputs": [
    {
     "name": "stdout",
     "output_type": "stream",
     "text": [
      "WARNING:tensorflow:From C:\\Users\\bruno.ribeiro\\AppData\\Local\\Programs\\Python\\Python311\\Lib\\site-packages\\keras\\src\\optimizers\\__init__.py:309: The name tf.train.Optimizer is deprecated. Please use tf.compat.v1.train.Optimizer instead.\n",
      "\n"
     ]
    }
   ],
   "source": [
    "# Model compilation\n",
    "model.compile(\n",
    "    optimizer='adam',\n",
    "    loss='sparse_categorical_crossentropy',\n",
    "    metrics=['accuracy']\n",
    ")"
   ]
  },
  {
   "cell_type": "markdown",
   "metadata": {
    "id": "7XI0j1Iu9hE2"
   },
   "source": [
    "# Model training"
   ]
  },
  {
   "cell_type": "code",
   "execution_count": 13,
   "metadata": {
    "colab": {
     "base_uri": "https://localhost:8080/"
    },
    "id": "WirBl-JE9hE3",
    "outputId": "71b30ca2-8294-4d9d-8aa2-800d90d399de",
    "scrolled": true
   },
   "outputs": [
    {
     "name": "stdout",
     "output_type": "stream",
     "text": [
      "Epoch 1/1000\n",
      "1/3 [=========>....................] - ETA: 0s - loss: 0.4711 - accuracy: 0.8125\n",
      "Epoch 1: saving model to model/keypoint_classifier\\keypoint_classifier.hdf5\n",
      "3/3 [==============================] - 0s 60ms/step - loss: 0.5149 - accuracy: 0.8038 - val_loss: 0.2383 - val_accuracy: 1.0000\n",
      "Epoch 2/1000\n",
      "1/3 [=========>....................] - ETA: 0s - loss: 0.4701 - accuracy: 0.8438\n",
      "Epoch 2: saving model to model/keypoint_classifier\\keypoint_classifier.hdf5\n",
      "3/3 [==============================] - 0s 39ms/step - loss: 0.4770 - accuracy: 0.8302 - val_loss: 0.2349 - val_accuracy: 1.0000\n",
      "Epoch 3/1000\n",
      "1/3 [=========>....................] - ETA: 0s - loss: 0.5674 - accuracy: 0.7656\n",
      "Epoch 3: saving model to model/keypoint_classifier\\keypoint_classifier.hdf5\n",
      "3/3 [==============================] - 0s 34ms/step - loss: 0.5350 - accuracy: 0.8000 - val_loss: 0.2324 - val_accuracy: 1.0000\n",
      "Epoch 4/1000\n",
      "1/3 [=========>....................] - ETA: 0s - loss: 0.5246 - accuracy: 0.7891\n",
      "Epoch 4: saving model to model/keypoint_classifier\\keypoint_classifier.hdf5\n",
      "3/3 [==============================] - 0s 34ms/step - loss: 0.4958 - accuracy: 0.8302 - val_loss: 0.2334 - val_accuracy: 1.0000\n",
      "Epoch 5/1000\n",
      "1/3 [=========>....................] - ETA: 0s - loss: 0.4679 - accuracy: 0.8281\n",
      "Epoch 5: saving model to model/keypoint_classifier\\keypoint_classifier.hdf5\n",
      "3/3 [==============================] - 0s 37ms/step - loss: 0.5143 - accuracy: 0.7811 - val_loss: 0.2338 - val_accuracy: 1.0000\n",
      "Epoch 6/1000\n",
      "1/3 [=========>....................] - ETA: 0s - loss: 0.5528 - accuracy: 0.7656\n",
      "Epoch 6: saving model to model/keypoint_classifier\\keypoint_classifier.hdf5\n",
      "3/3 [==============================] - 0s 39ms/step - loss: 0.5602 - accuracy: 0.7585 - val_loss: 0.2295 - val_accuracy: 1.0000\n",
      "Epoch 7/1000\n",
      "1/3 [=========>....................] - ETA: 0s - loss: 0.5547 - accuracy: 0.7969\n",
      "Epoch 7: saving model to model/keypoint_classifier\\keypoint_classifier.hdf5\n",
      "3/3 [==============================] - 0s 35ms/step - loss: 0.5276 - accuracy: 0.7962 - val_loss: 0.2229 - val_accuracy: 1.0000\n",
      "Epoch 8/1000\n",
      "1/3 [=========>....................] - ETA: 0s - loss: 0.5452 - accuracy: 0.7812\n",
      "Epoch 8: saving model to model/keypoint_classifier\\keypoint_classifier.hdf5\n",
      "3/3 [==============================] - 0s 35ms/step - loss: 0.5565 - accuracy: 0.7774 - val_loss: 0.2153 - val_accuracy: 1.0000\n",
      "Epoch 9/1000\n",
      "1/3 [=========>....................] - ETA: 0s - loss: 0.4591 - accuracy: 0.8359\n",
      "Epoch 9: saving model to model/keypoint_classifier\\keypoint_classifier.hdf5\n",
      "3/3 [==============================] - 0s 31ms/step - loss: 0.4636 - accuracy: 0.8226 - val_loss: 0.2115 - val_accuracy: 1.0000\n",
      "Epoch 10/1000\n",
      "1/3 [=========>....................] - ETA: 0s - loss: 0.4639 - accuracy: 0.7969\n",
      "Epoch 10: saving model to model/keypoint_classifier\\keypoint_classifier.hdf5\n",
      "3/3 [==============================] - 0s 33ms/step - loss: 0.4563 - accuracy: 0.8302 - val_loss: 0.2111 - val_accuracy: 1.0000\n",
      "Epoch 11/1000\n",
      "1/3 [=========>....................] - ETA: 0s - loss: 0.4039 - accuracy: 0.8516\n",
      "Epoch 11: saving model to model/keypoint_classifier\\keypoint_classifier.hdf5\n",
      "3/3 [==============================] - 0s 31ms/step - loss: 0.5053 - accuracy: 0.8075 - val_loss: 0.2106 - val_accuracy: 1.0000\n",
      "Epoch 12/1000\n",
      "1/3 [=========>....................] - ETA: 0s - loss: 0.5713 - accuracy: 0.7656\n",
      "Epoch 12: saving model to model/keypoint_classifier\\keypoint_classifier.hdf5\n",
      "3/3 [==============================] - 0s 31ms/step - loss: 0.5688 - accuracy: 0.7660 - val_loss: 0.2090 - val_accuracy: 1.0000\n",
      "Epoch 13/1000\n",
      "1/3 [=========>....................] - ETA: 0s - loss: 0.5729 - accuracy: 0.7812\n",
      "Epoch 13: saving model to model/keypoint_classifier\\keypoint_classifier.hdf5\n",
      "3/3 [==============================] - 0s 33ms/step - loss: 0.5328 - accuracy: 0.7887 - val_loss: 0.2075 - val_accuracy: 1.0000\n",
      "Epoch 14/1000\n",
      "1/3 [=========>....................] - ETA: 0s - loss: 0.4593 - accuracy: 0.8281\n",
      "Epoch 14: saving model to model/keypoint_classifier\\keypoint_classifier.hdf5\n",
      "3/3 [==============================] - 0s 32ms/step - loss: 0.4692 - accuracy: 0.8302 - val_loss: 0.2049 - val_accuracy: 1.0000\n",
      "Epoch 15/1000\n",
      "1/3 [=========>....................] - ETA: 0s - loss: 0.5145 - accuracy: 0.8125\n",
      "Epoch 15: saving model to model/keypoint_classifier\\keypoint_classifier.hdf5\n",
      "3/3 [==============================] - 0s 33ms/step - loss: 0.5142 - accuracy: 0.7925 - val_loss: 0.2015 - val_accuracy: 1.0000\n",
      "Epoch 16/1000\n",
      "1/3 [=========>....................] - ETA: 0s - loss: 0.6076 - accuracy: 0.7812\n",
      "Epoch 16: saving model to model/keypoint_classifier\\keypoint_classifier.hdf5\n",
      "3/3 [==============================] - 0s 35ms/step - loss: 0.5620 - accuracy: 0.7849 - val_loss: 0.1994 - val_accuracy: 1.0000\n",
      "Epoch 17/1000\n",
      "1/3 [=========>....................] - ETA: 0s - loss: 0.5136 - accuracy: 0.7812\n",
      "Epoch 17: saving model to model/keypoint_classifier\\keypoint_classifier.hdf5\n",
      "3/3 [==============================] - 0s 32ms/step - loss: 0.5267 - accuracy: 0.7887 - val_loss: 0.1980 - val_accuracy: 1.0000\n",
      "Epoch 18/1000\n",
      "1/3 [=========>....................] - ETA: 0s - loss: 0.5334 - accuracy: 0.8047\n",
      "Epoch 18: saving model to model/keypoint_classifier\\keypoint_classifier.hdf5\n",
      "3/3 [==============================] - 0s 33ms/step - loss: 0.4948 - accuracy: 0.8151 - val_loss: 0.1957 - val_accuracy: 1.0000\n",
      "Epoch 19/1000\n",
      "1/3 [=========>....................] - ETA: 0s - loss: 0.4857 - accuracy: 0.8203\n",
      "Epoch 19: saving model to model/keypoint_classifier\\keypoint_classifier.hdf5\n",
      "3/3 [==============================] - 0s 30ms/step - loss: 0.4511 - accuracy: 0.8264 - val_loss: 0.1917 - val_accuracy: 1.0000\n",
      "Epoch 20/1000\n",
      "1/3 [=========>....................] - ETA: 0s - loss: 0.5974 - accuracy: 0.7891\n",
      "Epoch 20: saving model to model/keypoint_classifier\\keypoint_classifier.hdf5\n",
      "3/3 [==============================] - 0s 32ms/step - loss: 0.5896 - accuracy: 0.7660 - val_loss: 0.1880 - val_accuracy: 1.0000\n",
      "Epoch 21/1000\n",
      "1/3 [=========>....................] - ETA: 0s - loss: 0.4362 - accuracy: 0.8828\n",
      "Epoch 21: saving model to model/keypoint_classifier\\keypoint_classifier.hdf5\n",
      "3/3 [==============================] - 0s 34ms/step - loss: 0.4628 - accuracy: 0.8491 - val_loss: 0.1865 - val_accuracy: 1.0000\n",
      "Epoch 22/1000\n",
      "1/3 [=========>....................] - ETA: 0s - loss: 0.5527 - accuracy: 0.7734\n",
      "Epoch 22: saving model to model/keypoint_classifier\\keypoint_classifier.hdf5\n",
      "3/3 [==============================] - 0s 33ms/step - loss: 0.5498 - accuracy: 0.7811 - val_loss: 0.1874 - val_accuracy: 1.0000\n",
      "Epoch 23/1000\n",
      "1/3 [=========>....................] - ETA: 0s - loss: 0.4502 - accuracy: 0.8281\n",
      "Epoch 23: saving model to model/keypoint_classifier\\keypoint_classifier.hdf5\n",
      "3/3 [==============================] - 0s 27ms/step - loss: 0.4796 - accuracy: 0.8226 - val_loss: 0.1887 - val_accuracy: 1.0000\n",
      "Epoch 24/1000\n",
      "1/3 [=========>....................] - ETA: 0s - loss: 0.5467 - accuracy: 0.7812\n",
      "Epoch 24: saving model to model/keypoint_classifier\\keypoint_classifier.hdf5\n",
      "3/3 [==============================] - 0s 26ms/step - loss: 0.5097 - accuracy: 0.8189 - val_loss: 0.1917 - val_accuracy: 1.0000\n",
      "Epoch 25/1000\n",
      "1/3 [=========>....................] - ETA: 0s - loss: 0.4022 - accuracy: 0.8438\n",
      "Epoch 25: saving model to model/keypoint_classifier\\keypoint_classifier.hdf5\n",
      "3/3 [==============================] - 0s 31ms/step - loss: 0.4831 - accuracy: 0.7962 - val_loss: 0.1958 - val_accuracy: 1.0000\n",
      "Epoch 26/1000\n",
      "1/3 [=========>....................] - ETA: 0s - loss: 0.4817 - accuracy: 0.8203\n",
      "Epoch 26: saving model to model/keypoint_classifier\\keypoint_classifier.hdf5\n",
      "3/3 [==============================] - 0s 32ms/step - loss: 0.4541 - accuracy: 0.8340 - val_loss: 0.1987 - val_accuracy: 1.0000\n",
      "Epoch 27/1000\n",
      "1/3 [=========>....................] - ETA: 0s - loss: 0.6165 - accuracy: 0.7578\n",
      "Epoch 27: saving model to model/keypoint_classifier\\keypoint_classifier.hdf5\n",
      "3/3 [==============================] - 0s 32ms/step - loss: 0.5305 - accuracy: 0.7811 - val_loss: 0.1989 - val_accuracy: 1.0000\n",
      "Epoch 28/1000\n",
      "1/3 [=========>....................] - ETA: 0s - loss: 0.5230 - accuracy: 0.8125\n",
      "Epoch 28: saving model to model/keypoint_classifier\\keypoint_classifier.hdf5\n",
      "3/3 [==============================] - 0s 30ms/step - loss: 0.5721 - accuracy: 0.8000 - val_loss: 0.1955 - val_accuracy: 1.0000\n",
      "Epoch 29/1000\n",
      "1/3 [=========>....................] - ETA: 0s - loss: 0.4643 - accuracy: 0.7891\n",
      "Epoch 29: saving model to model/keypoint_classifier\\keypoint_classifier.hdf5\n",
      "3/3 [==============================] - 0s 31ms/step - loss: 0.4407 - accuracy: 0.8302 - val_loss: 0.1915 - val_accuracy: 1.0000\n",
      "Epoch 30/1000\n",
      "1/3 [=========>....................] - ETA: 0s - loss: 0.5030 - accuracy: 0.7969\n",
      "Epoch 30: saving model to model/keypoint_classifier\\keypoint_classifier.hdf5\n",
      "3/3 [==============================] - 0s 35ms/step - loss: 0.4910 - accuracy: 0.8000 - val_loss: 0.1879 - val_accuracy: 1.0000\n",
      "Epoch 31/1000\n",
      "1/3 [=========>....................] - ETA: 0s - loss: 0.6243 - accuracy: 0.7422\n",
      "Epoch 31: saving model to model/keypoint_classifier\\keypoint_classifier.hdf5\n",
      "3/3 [==============================] - 0s 29ms/step - loss: 0.5183 - accuracy: 0.8038 - val_loss: 0.1862 - val_accuracy: 1.0000\n",
      "Epoch 32/1000\n",
      "1/3 [=========>....................] - ETA: 0s - loss: 0.4409 - accuracy: 0.8125\n",
      "Epoch 32: saving model to model/keypoint_classifier\\keypoint_classifier.hdf5\n",
      "3/3 [==============================] - 0s 31ms/step - loss: 0.5484 - accuracy: 0.7698 - val_loss: 0.1875 - val_accuracy: 1.0000\n",
      "Epoch 33/1000\n",
      "1/3 [=========>....................] - ETA: 0s - loss: 0.4209 - accuracy: 0.8438\n",
      "Epoch 33: saving model to model/keypoint_classifier\\keypoint_classifier.hdf5\n",
      "3/3 [==============================] - 0s 33ms/step - loss: 0.4645 - accuracy: 0.8264 - val_loss: 0.1913 - val_accuracy: 1.0000\n",
      "Epoch 34/1000\n",
      "1/3 [=========>....................] - ETA: 0s - loss: 0.4581 - accuracy: 0.8438\n",
      "Epoch 34: saving model to model/keypoint_classifier\\keypoint_classifier.hdf5\n",
      "3/3 [==============================] - 0s 38ms/step - loss: 0.5058 - accuracy: 0.8113 - val_loss: 0.1933 - val_accuracy: 1.0000\n",
      "Epoch 35/1000\n",
      "1/3 [=========>....................] - ETA: 0s - loss: 0.5044 - accuracy: 0.8125\n",
      "Epoch 35: saving model to model/keypoint_classifier\\keypoint_classifier.hdf5\n",
      "3/3 [==============================] - 0s 31ms/step - loss: 0.5152 - accuracy: 0.8000 - val_loss: 0.1944 - val_accuracy: 1.0000\n",
      "Epoch 36/1000\n",
      "1/3 [=========>....................] - ETA: 0s - loss: 0.3878 - accuracy: 0.8750\n",
      "Epoch 36: saving model to model/keypoint_classifier\\keypoint_classifier.hdf5\n",
      "3/3 [==============================] - 0s 33ms/step - loss: 0.4731 - accuracy: 0.8264 - val_loss: 0.1960 - val_accuracy: 1.0000\n",
      "Epoch 37/1000\n",
      "1/3 [=========>....................] - ETA: 0s - loss: 0.4735 - accuracy: 0.8203\n",
      "Epoch 37: saving model to model/keypoint_classifier\\keypoint_classifier.hdf5\n",
      "3/3 [==============================] - 0s 32ms/step - loss: 0.4634 - accuracy: 0.8302 - val_loss: 0.1973 - val_accuracy: 1.0000\n",
      "Epoch 38/1000\n",
      "1/3 [=========>....................] - ETA: 0s - loss: 0.5668 - accuracy: 0.7734\n",
      "Epoch 38: saving model to model/keypoint_classifier\\keypoint_classifier.hdf5\n",
      "3/3 [==============================] - 0s 32ms/step - loss: 0.5668 - accuracy: 0.7887 - val_loss: 0.1976 - val_accuracy: 1.0000\n",
      "Epoch 39/1000\n",
      "1/3 [=========>....................] - ETA: 0s - loss: 0.5425 - accuracy: 0.7422\n",
      "Epoch 39: saving model to model/keypoint_classifier\\keypoint_classifier.hdf5\n",
      "3/3 [==============================] - 0s 38ms/step - loss: 0.5259 - accuracy: 0.7736 - val_loss: 0.1995 - val_accuracy: 1.0000\n",
      "Epoch 40/1000\n",
      "1/3 [=========>....................] - ETA: 0s - loss: 0.4450 - accuracy: 0.8516\n",
      "Epoch 40: saving model to model/keypoint_classifier\\keypoint_classifier.hdf5\n",
      "3/3 [==============================] - 0s 29ms/step - loss: 0.4776 - accuracy: 0.8264 - val_loss: 0.2020 - val_accuracy: 1.0000\n",
      "Epoch 41/1000\n",
      "1/3 [=========>....................] - ETA: 0s - loss: 0.5027 - accuracy: 0.8281\n",
      "Epoch 41: saving model to model/keypoint_classifier\\keypoint_classifier.hdf5\n",
      "3/3 [==============================] - 0s 29ms/step - loss: 0.5015 - accuracy: 0.8226 - val_loss: 0.2025 - val_accuracy: 1.0000\n",
      "Epoch 42/1000\n",
      "1/3 [=========>....................] - ETA: 0s - loss: 0.4795 - accuracy: 0.8203\n",
      "Epoch 42: saving model to model/keypoint_classifier\\keypoint_classifier.hdf5\n",
      "3/3 [==============================] - 0s 32ms/step - loss: 0.5089 - accuracy: 0.8189 - val_loss: 0.2000 - val_accuracy: 1.0000\n",
      "Epoch 43/1000\n",
      "1/3 [=========>....................] - ETA: 0s - loss: 0.4844 - accuracy: 0.7734\n",
      "Epoch 43: saving model to model/keypoint_classifier\\keypoint_classifier.hdf5\n",
      "3/3 [==============================] - 0s 31ms/step - loss: 0.5412 - accuracy: 0.7585 - val_loss: 0.1947 - val_accuracy: 1.0000\n",
      "Epoch 44/1000\n",
      "1/3 [=========>....................] - ETA: 0s - loss: 0.5144 - accuracy: 0.7891\n",
      "Epoch 44: saving model to model/keypoint_classifier\\keypoint_classifier.hdf5\n",
      "3/3 [==============================] - 0s 32ms/step - loss: 0.4928 - accuracy: 0.7925 - val_loss: 0.1889 - val_accuracy: 1.0000\n",
      "Epoch 45/1000\n",
      "1/3 [=========>....................] - ETA: 0s - loss: 0.5771 - accuracy: 0.8047\n",
      "Epoch 45: saving model to model/keypoint_classifier\\keypoint_classifier.hdf5\n",
      "3/3 [==============================] - 0s 31ms/step - loss: 0.5273 - accuracy: 0.8113 - val_loss: 0.1846 - val_accuracy: 1.0000\n",
      "Epoch 46/1000\n",
      "1/3 [=========>....................] - ETA: 0s - loss: 0.4727 - accuracy: 0.8281\n",
      "Epoch 46: saving model to model/keypoint_classifier\\keypoint_classifier.hdf5\n",
      "3/3 [==============================] - 0s 32ms/step - loss: 0.4702 - accuracy: 0.8226 - val_loss: 0.1812 - val_accuracy: 1.0000\n",
      "Epoch 47/1000\n",
      "1/3 [=========>....................] - ETA: 0s - loss: 0.4441 - accuracy: 0.8281\n",
      "Epoch 47: saving model to model/keypoint_classifier\\keypoint_classifier.hdf5\n",
      "3/3 [==============================] - 0s 31ms/step - loss: 0.4657 - accuracy: 0.8226 - val_loss: 0.1796 - val_accuracy: 1.0000\n",
      "Epoch 48/1000\n",
      "1/3 [=========>....................] - ETA: 0s - loss: 0.4826 - accuracy: 0.8359\n",
      "Epoch 48: saving model to model/keypoint_classifier\\keypoint_classifier.hdf5\n",
      "3/3 [==============================] - 0s 33ms/step - loss: 0.4696 - accuracy: 0.8377 - val_loss: 0.1794 - val_accuracy: 1.0000\n",
      "Epoch 49/1000\n",
      "1/3 [=========>....................] - ETA: 0s - loss: 0.4733 - accuracy: 0.8281\n",
      "Epoch 49: saving model to model/keypoint_classifier\\keypoint_classifier.hdf5\n",
      "3/3 [==============================] - 0s 31ms/step - loss: 0.5185 - accuracy: 0.8038 - val_loss: 0.1797 - val_accuracy: 1.0000\n",
      "Epoch 50/1000\n",
      "1/3 [=========>....................] - ETA: 0s - loss: 0.4769 - accuracy: 0.8125\n",
      "Epoch 50: saving model to model/keypoint_classifier\\keypoint_classifier.hdf5\n",
      "3/3 [==============================] - 0s 33ms/step - loss: 0.5074 - accuracy: 0.8038 - val_loss: 0.1806 - val_accuracy: 1.0000\n",
      "Epoch 51/1000\n",
      "1/3 [=========>....................] - ETA: 0s - loss: 0.4611 - accuracy: 0.8047\n",
      "Epoch 51: saving model to model/keypoint_classifier\\keypoint_classifier.hdf5\n",
      "3/3 [==============================] - 0s 33ms/step - loss: 0.4487 - accuracy: 0.8189 - val_loss: 0.1815 - val_accuracy: 1.0000\n",
      "Epoch 52/1000\n",
      "1/3 [=========>....................] - ETA: 0s - loss: 0.3951 - accuracy: 0.8828\n",
      "Epoch 52: saving model to model/keypoint_classifier\\keypoint_classifier.hdf5\n",
      "3/3 [==============================] - 0s 31ms/step - loss: 0.4206 - accuracy: 0.8604 - val_loss: 0.1799 - val_accuracy: 1.0000\n",
      "Epoch 53/1000\n",
      "1/3 [=========>....................] - ETA: 0s - loss: 0.5475 - accuracy: 0.7734\n",
      "Epoch 53: saving model to model/keypoint_classifier\\keypoint_classifier.hdf5\n",
      "3/3 [==============================] - 0s 41ms/step - loss: 0.4750 - accuracy: 0.8189 - val_loss: 0.1781 - val_accuracy: 1.0000\n",
      "Epoch 54/1000\n",
      "1/3 [=========>....................] - ETA: 0s - loss: 0.4631 - accuracy: 0.8203\n",
      "Epoch 54: saving model to model/keypoint_classifier\\keypoint_classifier.hdf5\n",
      "3/3 [==============================] - 0s 35ms/step - loss: 0.4182 - accuracy: 0.8264 - val_loss: 0.1777 - val_accuracy: 1.0000\n",
      "Epoch 55/1000\n",
      "1/3 [=========>....................] - ETA: 0s - loss: 0.5055 - accuracy: 0.8203\n",
      "Epoch 55: saving model to model/keypoint_classifier\\keypoint_classifier.hdf5\n",
      "3/3 [==============================] - 0s 34ms/step - loss: 0.5160 - accuracy: 0.8038 - val_loss: 0.1778 - val_accuracy: 1.0000\n",
      "Epoch 56/1000\n",
      "1/3 [=========>....................] - ETA: 0s - loss: 0.5278 - accuracy: 0.7891\n",
      "Epoch 56: saving model to model/keypoint_classifier\\keypoint_classifier.hdf5\n",
      "3/3 [==============================] - 0s 33ms/step - loss: 0.4716 - accuracy: 0.8226 - val_loss: 0.1783 - val_accuracy: 1.0000\n",
      "Epoch 57/1000\n",
      "1/3 [=========>....................] - ETA: 0s - loss: 0.4005 - accuracy: 0.8594\n",
      "Epoch 57: saving model to model/keypoint_classifier\\keypoint_classifier.hdf5\n",
      "3/3 [==============================] - 0s 38ms/step - loss: 0.4215 - accuracy: 0.8377 - val_loss: 0.1787 - val_accuracy: 1.0000\n",
      "Epoch 58/1000\n",
      "1/3 [=========>....................] - ETA: 0s - loss: 0.4703 - accuracy: 0.7891\n",
      "Epoch 58: saving model to model/keypoint_classifier\\keypoint_classifier.hdf5\n",
      "3/3 [==============================] - 0s 34ms/step - loss: 0.4346 - accuracy: 0.8189 - val_loss: 0.1781 - val_accuracy: 1.0000\n",
      "Epoch 59/1000\n",
      "1/3 [=========>....................] - ETA: 0s - loss: 0.4082 - accuracy: 0.8594\n",
      "Epoch 59: saving model to model/keypoint_classifier\\keypoint_classifier.hdf5\n",
      "3/3 [==============================] - 0s 36ms/step - loss: 0.5092 - accuracy: 0.8038 - val_loss: 0.1758 - val_accuracy: 1.0000\n",
      "Epoch 60/1000\n",
      "1/3 [=========>....................] - ETA: 0s - loss: 0.4916 - accuracy: 0.8047\n",
      "Epoch 60: saving model to model/keypoint_classifier\\keypoint_classifier.hdf5\n",
      "3/3 [==============================] - 0s 36ms/step - loss: 0.4992 - accuracy: 0.8226 - val_loss: 0.1740 - val_accuracy: 1.0000\n",
      "Epoch 61/1000\n",
      "1/3 [=========>....................] - ETA: 0s - loss: 0.4249 - accuracy: 0.8516\n",
      "Epoch 61: saving model to model/keypoint_classifier\\keypoint_classifier.hdf5\n",
      "3/3 [==============================] - 0s 40ms/step - loss: 0.4074 - accuracy: 0.8679 - val_loss: 0.1708 - val_accuracy: 1.0000\n",
      "Epoch 62/1000\n",
      "1/3 [=========>....................] - ETA: 0s - loss: 0.5035 - accuracy: 0.8516\n",
      "Epoch 62: saving model to model/keypoint_classifier\\keypoint_classifier.hdf5\n",
      "3/3 [==============================] - 0s 38ms/step - loss: 0.4811 - accuracy: 0.8340 - val_loss: 0.1696 - val_accuracy: 1.0000\n",
      "Epoch 63/1000\n",
      "1/3 [=========>....................] - ETA: 0s - loss: 0.4967 - accuracy: 0.7969\n",
      "Epoch 63: saving model to model/keypoint_classifier\\keypoint_classifier.hdf5\n",
      "3/3 [==============================] - 0s 38ms/step - loss: 0.4653 - accuracy: 0.8302 - val_loss: 0.1692 - val_accuracy: 1.0000\n",
      "Epoch 64/1000\n",
      "1/3 [=========>....................] - ETA: 0s - loss: 0.4939 - accuracy: 0.7578\n",
      "Epoch 64: saving model to model/keypoint_classifier\\keypoint_classifier.hdf5\n",
      "3/3 [==============================] - 0s 36ms/step - loss: 0.4745 - accuracy: 0.8038 - val_loss: 0.1687 - val_accuracy: 1.0000\n",
      "Epoch 65/1000\n",
      "1/3 [=========>....................] - ETA: 0s - loss: 0.4687 - accuracy: 0.8359\n",
      "Epoch 65: saving model to model/keypoint_classifier\\keypoint_classifier.hdf5\n",
      "3/3 [==============================] - 0s 39ms/step - loss: 0.4669 - accuracy: 0.8415 - val_loss: 0.1684 - val_accuracy: 1.0000\n",
      "Epoch 66/1000\n",
      "1/3 [=========>....................] - ETA: 0s - loss: 0.5525 - accuracy: 0.8203\n",
      "Epoch 66: saving model to model/keypoint_classifier\\keypoint_classifier.hdf5\n",
      "3/3 [==============================] - 0s 64ms/step - loss: 0.4923 - accuracy: 0.8264 - val_loss: 0.1694 - val_accuracy: 1.0000\n",
      "Epoch 67/1000\n",
      "1/3 [=========>....................] - ETA: 0s - loss: 0.5233 - accuracy: 0.7891\n",
      "Epoch 67: saving model to model/keypoint_classifier\\keypoint_classifier.hdf5\n",
      "3/3 [==============================] - 0s 51ms/step - loss: 0.4307 - accuracy: 0.8226 - val_loss: 0.1717 - val_accuracy: 1.0000\n",
      "Epoch 68/1000\n",
      "1/3 [=========>....................] - ETA: 0s - loss: 0.5107 - accuracy: 0.7891\n",
      "Epoch 68: saving model to model/keypoint_classifier\\keypoint_classifier.hdf5\n",
      "3/3 [==============================] - 0s 43ms/step - loss: 0.4751 - accuracy: 0.8000 - val_loss: 0.1714 - val_accuracy: 1.0000\n",
      "Epoch 69/1000\n",
      "1/3 [=========>....................] - ETA: 0s - loss: 0.4637 - accuracy: 0.8203\n",
      "Epoch 69: saving model to model/keypoint_classifier\\keypoint_classifier.hdf5\n",
      "3/3 [==============================] - 0s 39ms/step - loss: 0.5035 - accuracy: 0.7887 - val_loss: 0.1702 - val_accuracy: 1.0000\n",
      "Epoch 70/1000\n",
      "1/3 [=========>....................] - ETA: 0s - loss: 0.4227 - accuracy: 0.8281\n",
      "Epoch 70: saving model to model/keypoint_classifier\\keypoint_classifier.hdf5\n",
      "3/3 [==============================] - 0s 33ms/step - loss: 0.4696 - accuracy: 0.8226 - val_loss: 0.1708 - val_accuracy: 1.0000\n",
      "Epoch 71/1000\n",
      "1/3 [=========>....................] - ETA: 0s - loss: 0.5019 - accuracy: 0.8203\n",
      "Epoch 71: saving model to model/keypoint_classifier\\keypoint_classifier.hdf5\n",
      "3/3 [==============================] - 0s 32ms/step - loss: 0.4681 - accuracy: 0.8415 - val_loss: 0.1700 - val_accuracy: 1.0000\n",
      "Epoch 72/1000\n",
      "1/3 [=========>....................] - ETA: 0s - loss: 0.4810 - accuracy: 0.8359\n",
      "Epoch 72: saving model to model/keypoint_classifier\\keypoint_classifier.hdf5\n",
      "3/3 [==============================] - 0s 36ms/step - loss: 0.4749 - accuracy: 0.8302 - val_loss: 0.1689 - val_accuracy: 1.0000\n",
      "Epoch 73/1000\n",
      "1/3 [=========>....................] - ETA: 0s - loss: 0.4397 - accuracy: 0.8438\n",
      "Epoch 73: saving model to model/keypoint_classifier\\keypoint_classifier.hdf5\n",
      "3/3 [==============================] - 0s 32ms/step - loss: 0.5286 - accuracy: 0.7736 - val_loss: 0.1677 - val_accuracy: 1.0000\n",
      "Epoch 74/1000\n",
      "1/3 [=========>....................] - ETA: 0s - loss: 0.4477 - accuracy: 0.8438\n",
      "Epoch 74: saving model to model/keypoint_classifier\\keypoint_classifier.hdf5\n",
      "3/3 [==============================] - 0s 43ms/step - loss: 0.4530 - accuracy: 0.8264 - val_loss: 0.1666 - val_accuracy: 1.0000\n",
      "Epoch 75/1000\n",
      "1/3 [=========>....................] - ETA: 0s - loss: 0.4067 - accuracy: 0.8516\n",
      "Epoch 75: saving model to model/keypoint_classifier\\keypoint_classifier.hdf5\n",
      "3/3 [==============================] - 0s 52ms/step - loss: 0.4438 - accuracy: 0.8415 - val_loss: 0.1654 - val_accuracy: 1.0000\n",
      "Epoch 76/1000\n",
      "1/3 [=========>....................] - ETA: 0s - loss: 0.4801 - accuracy: 0.8047\n",
      "Epoch 76: saving model to model/keypoint_classifier\\keypoint_classifier.hdf5\n",
      "3/3 [==============================] - 0s 38ms/step - loss: 0.4908 - accuracy: 0.7811 - val_loss: 0.1643 - val_accuracy: 1.0000\n",
      "Epoch 77/1000\n",
      "1/3 [=========>....................] - ETA: 0s - loss: 0.4547 - accuracy: 0.8203\n",
      "Epoch 77: saving model to model/keypoint_classifier\\keypoint_classifier.hdf5\n",
      "3/3 [==============================] - 0s 40ms/step - loss: 0.4735 - accuracy: 0.8113 - val_loss: 0.1641 - val_accuracy: 1.0000\n",
      "Epoch 78/1000\n",
      "1/3 [=========>....................] - ETA: 0s - loss: 0.4812 - accuracy: 0.8125\n",
      "Epoch 78: saving model to model/keypoint_classifier\\keypoint_classifier.hdf5\n",
      "3/3 [==============================] - 0s 47ms/step - loss: 0.4361 - accuracy: 0.8377 - val_loss: 0.1638 - val_accuracy: 1.0000\n",
      "Epoch 79/1000\n",
      "1/3 [=========>....................] - ETA: 0s - loss: 0.5062 - accuracy: 0.8281\n",
      "Epoch 79: saving model to model/keypoint_classifier\\keypoint_classifier.hdf5\n",
      "3/3 [==============================] - 0s 58ms/step - loss: 0.4776 - accuracy: 0.8151 - val_loss: 0.1624 - val_accuracy: 1.0000\n",
      "Epoch 80/1000\n",
      "1/3 [=========>....................] - ETA: 0s - loss: 0.4009 - accuracy: 0.8516\n",
      "Epoch 80: saving model to model/keypoint_classifier\\keypoint_classifier.hdf5\n",
      "3/3 [==============================] - 0s 40ms/step - loss: 0.4375 - accuracy: 0.8264 - val_loss: 0.1590 - val_accuracy: 1.0000\n",
      "Epoch 81/1000\n",
      "1/3 [=========>....................] - ETA: 0s - loss: 0.4725 - accuracy: 0.8438\n",
      "Epoch 81: saving model to model/keypoint_classifier\\keypoint_classifier.hdf5\n",
      "3/3 [==============================] - 0s 35ms/step - loss: 0.5186 - accuracy: 0.8226 - val_loss: 0.1563 - val_accuracy: 1.0000\n",
      "Epoch 82/1000\n",
      "1/3 [=========>....................] - ETA: 0s - loss: 0.3835 - accuracy: 0.8516\n",
      "Epoch 82: saving model to model/keypoint_classifier\\keypoint_classifier.hdf5\n",
      "3/3 [==============================] - 0s 49ms/step - loss: 0.4753 - accuracy: 0.8113 - val_loss: 0.1543 - val_accuracy: 1.0000\n",
      "Epoch 83/1000\n",
      "1/3 [=========>....................] - ETA: 0s - loss: 0.4507 - accuracy: 0.8750\n",
      "Epoch 83: saving model to model/keypoint_classifier\\keypoint_classifier.hdf5\n",
      "3/3 [==============================] - 0s 66ms/step - loss: 0.5182 - accuracy: 0.8038 - val_loss: 0.1534 - val_accuracy: 1.0000\n",
      "Epoch 84/1000\n",
      "1/3 [=========>....................] - ETA: 0s - loss: 0.5405 - accuracy: 0.7891\n",
      "Epoch 84: saving model to model/keypoint_classifier\\keypoint_classifier.hdf5\n",
      "3/3 [==============================] - 0s 39ms/step - loss: 0.5152 - accuracy: 0.7962 - val_loss: 0.1559 - val_accuracy: 1.0000\n",
      "Epoch 85/1000\n",
      "1/3 [=========>....................] - ETA: 0s - loss: 0.5043 - accuracy: 0.7969\n",
      "Epoch 85: saving model to model/keypoint_classifier\\keypoint_classifier.hdf5\n",
      "3/3 [==============================] - 0s 33ms/step - loss: 0.5145 - accuracy: 0.7849 - val_loss: 0.1598 - val_accuracy: 1.0000\n",
      "Epoch 86/1000\n",
      "1/3 [=========>....................] - ETA: 0s - loss: 0.3810 - accuracy: 0.8438\n",
      "Epoch 86: saving model to model/keypoint_classifier\\keypoint_classifier.hdf5\n",
      "3/3 [==============================] - 0s 32ms/step - loss: 0.4705 - accuracy: 0.8075 - val_loss: 0.1652 - val_accuracy: 1.0000\n",
      "Epoch 87/1000\n",
      "1/3 [=========>....................] - ETA: 0s - loss: 0.4349 - accuracy: 0.8359\n",
      "Epoch 87: saving model to model/keypoint_classifier\\keypoint_classifier.hdf5\n",
      "3/3 [==============================] - 0s 33ms/step - loss: 0.5091 - accuracy: 0.8075 - val_loss: 0.1708 - val_accuracy: 1.0000\n",
      "Epoch 88/1000\n",
      "1/3 [=========>....................] - ETA: 0s - loss: 0.4198 - accuracy: 0.8516\n",
      "Epoch 88: saving model to model/keypoint_classifier\\keypoint_classifier.hdf5\n",
      "3/3 [==============================] - 0s 32ms/step - loss: 0.4535 - accuracy: 0.8151 - val_loss: 0.1758 - val_accuracy: 1.0000\n",
      "Epoch 89/1000\n",
      "1/3 [=========>....................] - ETA: 0s - loss: 0.4205 - accuracy: 0.8047\n",
      "Epoch 89: saving model to model/keypoint_classifier\\keypoint_classifier.hdf5\n",
      "3/3 [==============================] - 0s 32ms/step - loss: 0.4366 - accuracy: 0.8000 - val_loss: 0.1793 - val_accuracy: 1.0000\n",
      "Epoch 90/1000\n",
      "1/3 [=========>....................] - ETA: 0s - loss: 0.4454 - accuracy: 0.8125\n",
      "Epoch 90: saving model to model/keypoint_classifier\\keypoint_classifier.hdf5\n",
      "3/3 [==============================] - 0s 34ms/step - loss: 0.4357 - accuracy: 0.8340 - val_loss: 0.1797 - val_accuracy: 1.0000\n",
      "Epoch 91/1000\n",
      "1/3 [=========>....................] - ETA: 0s - loss: 0.5117 - accuracy: 0.7812\n",
      "Epoch 91: saving model to model/keypoint_classifier\\keypoint_classifier.hdf5\n",
      "3/3 [==============================] - 0s 31ms/step - loss: 0.4813 - accuracy: 0.8038 - val_loss: 0.1799 - val_accuracy: 1.0000\n",
      "Epoch 92/1000\n",
      "1/3 [=========>....................] - ETA: 0s - loss: 0.4746 - accuracy: 0.8125\n",
      "Epoch 92: saving model to model/keypoint_classifier\\keypoint_classifier.hdf5\n",
      "3/3 [==============================] - 0s 35ms/step - loss: 0.4561 - accuracy: 0.8038 - val_loss: 0.1793 - val_accuracy: 1.0000\n",
      "Epoch 93/1000\n",
      "1/3 [=========>....................] - ETA: 0s - loss: 0.4598 - accuracy: 0.8281\n",
      "Epoch 93: saving model to model/keypoint_classifier\\keypoint_classifier.hdf5\n",
      "3/3 [==============================] - 0s 32ms/step - loss: 0.4929 - accuracy: 0.7887 - val_loss: 0.1775 - val_accuracy: 1.0000\n",
      "Epoch 94/1000\n",
      "1/3 [=========>....................] - ETA: 0s - loss: 0.4805 - accuracy: 0.8359\n",
      "Epoch 94: saving model to model/keypoint_classifier\\keypoint_classifier.hdf5\n",
      "3/3 [==============================] - 0s 34ms/step - loss: 0.4323 - accuracy: 0.8566 - val_loss: 0.1749 - val_accuracy: 1.0000\n",
      "Epoch 95/1000\n",
      "1/3 [=========>....................] - ETA: 0s - loss: 0.5269 - accuracy: 0.7969\n",
      "Epoch 95: saving model to model/keypoint_classifier\\keypoint_classifier.hdf5\n",
      "3/3 [==============================] - 0s 32ms/step - loss: 0.5244 - accuracy: 0.8000 - val_loss: 0.1728 - val_accuracy: 1.0000\n",
      "Epoch 96/1000\n",
      "1/3 [=========>....................] - ETA: 0s - loss: 0.5108 - accuracy: 0.8047\n",
      "Epoch 96: saving model to model/keypoint_classifier\\keypoint_classifier.hdf5\n",
      "3/3 [==============================] - 0s 31ms/step - loss: 0.5181 - accuracy: 0.8075 - val_loss: 0.1706 - val_accuracy: 1.0000\n",
      "Epoch 97/1000\n",
      "1/3 [=========>....................] - ETA: 0s - loss: 0.4765 - accuracy: 0.8438\n",
      "Epoch 97: saving model to model/keypoint_classifier\\keypoint_classifier.hdf5\n",
      "3/3 [==============================] - 0s 33ms/step - loss: 0.4922 - accuracy: 0.8113 - val_loss: 0.1684 - val_accuracy: 1.0000\n",
      "Epoch 98/1000\n",
      "1/3 [=========>....................] - ETA: 0s - loss: 0.4819 - accuracy: 0.8047\n",
      "Epoch 98: saving model to model/keypoint_classifier\\keypoint_classifier.hdf5\n",
      "3/3 [==============================] - 0s 28ms/step - loss: 0.4498 - accuracy: 0.8075 - val_loss: 0.1668 - val_accuracy: 1.0000\n",
      "Epoch 99/1000\n",
      "1/3 [=========>....................] - ETA: 0s - loss: 0.5331 - accuracy: 0.8359\n",
      "Epoch 99: saving model to model/keypoint_classifier\\keypoint_classifier.hdf5\n",
      "3/3 [==============================] - 0s 24ms/step - loss: 0.5027 - accuracy: 0.8264 - val_loss: 0.1656 - val_accuracy: 1.0000\n",
      "Epoch 100/1000\n",
      "1/3 [=========>....................] - ETA: 0s - loss: 0.4463 - accuracy: 0.8594\n",
      "Epoch 100: saving model to model/keypoint_classifier\\keypoint_classifier.hdf5\n",
      "3/3 [==============================] - 0s 32ms/step - loss: 0.4233 - accuracy: 0.8604 - val_loss: 0.1627 - val_accuracy: 1.0000\n",
      "Epoch 101/1000\n",
      "1/3 [=========>....................] - ETA: 0s - loss: 0.4874 - accuracy: 0.8047\n",
      "Epoch 101: saving model to model/keypoint_classifier\\keypoint_classifier.hdf5\n",
      "3/3 [==============================] - 0s 33ms/step - loss: 0.5238 - accuracy: 0.8075 - val_loss: 0.1607 - val_accuracy: 1.0000\n",
      "Epoch 102/1000\n",
      "1/3 [=========>....................] - ETA: 0s - loss: 0.4467 - accuracy: 0.8516\n",
      "Epoch 102: saving model to model/keypoint_classifier\\keypoint_classifier.hdf5\n",
      "3/3 [==============================] - 0s 32ms/step - loss: 0.4399 - accuracy: 0.8377 - val_loss: 0.1606 - val_accuracy: 1.0000\n",
      "Epoch 103/1000\n",
      "1/3 [=========>....................] - ETA: 0s - loss: 0.4819 - accuracy: 0.7969\n",
      "Epoch 103: saving model to model/keypoint_classifier\\keypoint_classifier.hdf5\n",
      "3/3 [==============================] - 0s 32ms/step - loss: 0.5032 - accuracy: 0.8000 - val_loss: 0.1620 - val_accuracy: 1.0000\n",
      "Epoch 103: early stopping\n"
     ]
    },
    {
     "data": {
      "text/plain": [
       "<keras.src.callbacks.History at 0x254820e70d0>"
      ]
     },
     "execution_count": 13,
     "metadata": {},
     "output_type": "execute_result"
    }
   ],
   "source": [
    "model.fit(\n",
    "    X_train,\n",
    "    y_train,\n",
    "    epochs=1000,\n",
    "    batch_size=128,\n",
    "    validation_data=(X_test, y_test),\n",
    "    callbacks=[cp_callback, es_callback]\n",
    ")"
   ]
  },
  {
   "cell_type": "code",
   "execution_count": 14,
   "metadata": {
    "colab": {
     "base_uri": "https://localhost:8080/"
    },
    "id": "pxvb2Y299hE3",
    "outputId": "59eb3185-2e37-4b9e-bc9d-ab1b8ac29b7f"
   },
   "outputs": [
    {
     "name": "stdout",
     "output_type": "stream",
     "text": [
      "1/1 [==============================] - 0s 31ms/step - loss: 0.1620 - accuracy: 1.0000\n"
     ]
    }
   ],
   "source": [
    "# Model evaluation\n",
    "val_loss, val_acc = model.evaluate(X_test, y_test, batch_size=128)"
   ]
  },
  {
   "cell_type": "code",
   "execution_count": 13,
   "metadata": {
    "id": "RBkmDeUW9hE4"
   },
   "outputs": [],
   "source": [
    "# Loading the saved model\n",
    "model = tf.keras.models.load_model(model_save_path)"
   ]
  },
  {
   "cell_type": "code",
   "execution_count": 14,
   "metadata": {
    "colab": {
     "base_uri": "https://localhost:8080/"
    },
    "id": "tFz9Tb0I9hE4",
    "outputId": "1c3b3528-54ae-4ee2-ab04-77429211cbef"
   },
   "outputs": [
    {
     "name": "stdout",
     "output_type": "stream",
     "text": [
      "1/1 [==============================] - 0s 109ms/step\n",
      "[0.8387104  0.11118612 0.04499845 0.00510502]\n",
      "0\n"
     ]
    }
   ],
   "source": [
    "# Inference test\n",
    "predict_result = model.predict(np.array([X_test[0]]))\n",
    "print(np.squeeze(predict_result))\n",
    "print(np.argmax(np.squeeze(predict_result)))"
   ]
  },
  {
   "cell_type": "markdown",
   "metadata": {
    "id": "S3U4yNWx9hE4"
   },
   "source": [
    "# Confusion matrix"
   ]
  },
  {
   "cell_type": "code",
   "execution_count": 15,
   "metadata": {
    "colab": {
     "base_uri": "https://localhost:8080/",
     "height": 582
    },
    "id": "AP1V6SCk9hE5",
    "outputId": "08e41a80-7a4a-4619-8125-ecc371368d19"
   },
   "outputs": [
    {
     "name": "stdout",
     "output_type": "stream",
     "text": [
      "6/6 [==============================] - 0s 2ms/step\n"
     ]
    },
    {
     "data": {
      "image/png": "[encoded data removed]",
      "text/plain": [
       "<Figure size 700x600 with 2 Axes>"
      ]
     },
     "metadata": {},
     "output_type": "display_data"
    },
    {
     "name": "stdout",
     "output_type": "stream",
     "text": [
      "Classification Report\n",
      "              precision    recall  f1-score   support\n",
      "\n",
      "           0       0.93      0.97      0.95        66\n",
      "           1       0.94      0.87      0.90        38\n",
      "           2       1.00      1.00      1.00        38\n",
      "           3       1.00      1.00      1.00        37\n",
      "\n",
      "    accuracy                           0.96       179\n",
      "   macro avg       0.97      0.96      0.96       179\n",
      "weighted avg       0.96      0.96      0.96       179\n",
      "\n"
     ]
    }
   ],
   "source": [
    "import pandas as pd\n",
    "import seaborn as sns\n",
    "import matplotlib.pyplot as plt\n",
    "from sklearn.metrics import confusion_matrix, classification_report\n",
    "\n",
    "def print_confusion_matrix(y_true, y_pred, report=True):\n",
    "    labels = sorted(list(set(y_true)))\n",
    "    cmx_data = confusion_matrix(y_true, y_pred, labels=labels)\n",
    "    \n",
    "    df_cmx = pd.DataFrame(cmx_data, index=labels, columns=labels)\n",
    " \n",
    "    fig, ax = plt.subplots(figsize=(7, 6))\n",
    "    sns.heatmap(df_cmx, annot=True, fmt='g' ,square=False)\n",
    "    ax.set_ylim(len(set(y_true)), 0)\n",
    "    plt.show()\n",
    "    \n",
    "    if report:\n",
    "        print('Classification Report')\n",
    "        print(classification_report(y_test, y_pred))\n",
    "\n",
    "Y_pred = model.predict(X_test)\n",
    "y_pred = np.argmax(Y_pred, axis=1)\n",
    "\n",
    "print_confusion_matrix(y_test, y_pred)"
   ]
  },
  {
   "cell_type": "markdown",
   "metadata": {
    "id": "FNP6aqzc9hE5"
   },
   "source": [
    "# Convert to model for Tensorflow-Lite"
   ]
  },
  {
   "cell_type": "code",
   "execution_count": 16,
   "metadata": {
    "id": "ODjnYyld9hE6"
   },
   "outputs": [
    {
     "name": "stderr",
     "output_type": "stream",
     "text": [
      "C:\\Users\\bruno.ribeiro\\AppData\\Local\\Programs\\Python\\Python311\\Lib\\site-packages\\keras\\src\\engine\\training.py:3103: UserWarning: You are saving your model as an HDF5 file via `model.save()`. This file format is considered legacy. We recommend using instead the native Keras format, e.g. `model.save('my_model.keras')`.\n",
      "  saving_api.save_model(\n"
     ]
    }
   ],
   "source": [
    "# Save as a model dedicated to inference\n",
    "model.save(model_save_path, include_optimizer=False)"
   ]
  },
  {
   "cell_type": "code",
   "execution_count": 17,
   "metadata": {
    "colab": {
     "base_uri": "https://localhost:8080/"
    },
    "id": "zRfuK8Y59hE6",
    "outputId": "a4ca585c-b5d5-4244-8291-8674063209bb"
   },
   "outputs": [
    {
     "name": "stdout",
     "output_type": "stream",
     "text": [
      "INFO:tensorflow:Assets written to: C:\\Users\\BRUNO~1.RIB\\AppData\\Local\\Temp\\tmpldvpx477\\assets\n"
     ]
    },
    {
     "name": "stderr",
     "output_type": "stream",
     "text": [
      "INFO:tensorflow:Assets written to: C:\\Users\\BRUNO~1.RIB\\AppData\\Local\\Temp\\tmpldvpx477\\assets\n"
     ]
    },
    {
     "data": {
      "text/plain": [
       "6544"
      ]
     },
     "execution_count": 17,
     "metadata": {},
     "output_type": "execute_result"
    }
   ],
   "source": [
    "# Transform model (quantization)\n",
    "\n",
    "converter = tf.lite.TFLiteConverter.from_keras_model(model)\n",
    "converter.optimizations = [tf.lite.Optimize.DEFAULT]\n",
    "tflite_quantized_model = converter.convert()\n",
    "\n",
    "open(tflite_save_path, 'wb').write(tflite_quantized_model)"
   ]
  },
  {
   "cell_type": "markdown",
   "metadata": {
    "id": "CHBPBXdx9hE6"
   },
   "source": [
    "# Inference test"
   ]
  },
  {
   "cell_type": "code",
   "execution_count": 18,
   "metadata": {
    "id": "mGAzLocO9hE7"
   },
   "outputs": [],
   "source": [
    "interpreter = tf.lite.Interpreter(model_path=tflite_save_path)\n",
    "interpreter.allocate_tensors()"
   ]
  },
  {
   "cell_type": "code",
   "execution_count": 19,
   "metadata": {
    "id": "oQuDK8YS9hE7"
   },
   "outputs": [],
   "source": [
    "# Get I / O tensor\n",
    "input_details = interpreter.get_input_details()\n",
    "output_details = interpreter.get_output_details()"
   ]
  },
  {
   "cell_type": "code",
   "execution_count": 20,
   "metadata": {
    "id": "2_ixAf_l9hE7"
   },
   "outputs": [],
   "source": [
    "interpreter.set_tensor(input_details[0]['index'], np.array([X_test[0]]))"
   ]
  },
  {
   "cell_type": "code",
   "execution_count": 21,
   "metadata": {
    "colab": {
     "base_uri": "https://localhost:8080/"
    },
    "id": "s4FoAnuc9hE7",
    "outputId": "91f18257-8d8b-4ef3-c558-e9b5f94fabbf",
    "scrolled": true
   },
   "outputs": [
    {
     "name": "stdout",
     "output_type": "stream",
     "text": [
      "CPU times: total: 0 ns\n",
      "Wall time: 0 ns\n"
     ]
    }
   ],
   "source": [
    "%%time\n",
    "# Inference implementation\n",
    "interpreter.invoke()\n",
    "tflite_results = interpreter.get_tensor(output_details[0]['index'])"
   ]
  },
  {
   "cell_type": "code",
   "execution_count": 22,
   "metadata": {
    "colab": {
     "base_uri": "https://localhost:8080/"
    },
    "id": "vONjp19J9hE8",
    "outputId": "77205e24-fd00-42c4-f7b6-e06e527c2cba"
   },
   "outputs": [
    {
     "name": "stdout",
     "output_type": "stream",
     "text": [
      "[0.8387104  0.11118609 0.04499846 0.00510502]\n",
      "0\n"
     ]
    }
   ],
   "source": [
    "print(np.squeeze(tflite_results))\n",
    "print(np.argmax(np.squeeze(tflite_results)))"
   ]
  },
  {
   "cell_type": "code",
   "execution_count": null,
   "metadata": {},
   "outputs": [],
   "source": []
  },
  {
   "cell_type": "code",
   "execution_count": null,
   "metadata": {},
   "outputs": [],
   "source": []
  },
  {
   "cell_type": "code",
   "execution_count": null,
   "metadata": {},
   "outputs": [],
   "source": []
  }
 ],
 "metadata": {
  "accelerator": "GPU",
  "colab": {
   "collapsed_sections": [],
   "name": "keypoint_classification_EN.ipynb",
   "provenance": [],
   "toc_visible": true
  },
  "kernelspec": {
   "display_name": "Python 3 (ipykernel)",
   "language": "python",
   "name": "python3"
  },
  "language_info": {
   "codemirror_mode": {
    "name": "ipython",
    "version": 3
   },
   "file_extension": ".py",
   "mimetype": "text/x-python",
   "name": "python",
   "nbconvert_exporter": "python",
   "pygments_lexer": "ipython3",
   "version": "3.11.0"
  }
 },
 "nbformat": 4,
 "nbformat_minor": 4
}
